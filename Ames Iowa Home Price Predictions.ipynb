{
 "cells": [
  {
   "cell_type": "code",
   "execution_count": 28,
   "id": "b435bbd4",
   "metadata": {},
   "outputs": [],
   "source": [
    "import pandas as pd\n",
    "import numpy as np\n",
    "import seaborn as sns\n",
    "import matplotlib.pyplot as plt\n",
    "from sklearn.preprocessing import LabelEncoder, StandardScaler\n",
    "from sklearn.model_selection import train_test_split\n",
    "from sklearn.decomposition import PCA\n",
    "from sklearn.linear_model import LogisticRegression\n",
    "from sklearn.metrics import r2_score\n",
    "from pandas_profiling import ProfileReport"
   ]
  },
  {
   "cell_type": "code",
   "execution_count": 18,
   "id": "7dbe64fe",
   "metadata": {},
   "outputs": [],
   "source": [
    "train = pd.read_csv('train.csv')\n",
    "\n",
    "#diagnosis = ProfileReport(train)\n",
    "#diagnosis.to_notebook_iframe()"
   ]
  },
  {
   "cell_type": "code",
   "execution_count": 64,
   "id": "0f74c6b5",
   "metadata": {},
   "outputs": [
    {
     "name": "stderr",
     "output_type": "stream",
     "text": [
      "C:\\Users\\nicho\\anaconda3\\lib\\site-packages\\sklearn\\utils\\validation.py:63: DataConversionWarning: A column-vector y was passed when a 1d array was expected. Please change the shape of y to (n_samples, ), for example using ravel().\n",
      "  return f(*args, **kwargs)\n"
     ]
    }
   ],
   "source": [
    "#Deal with NaN's\n",
    "avg_LF = np.mean(train['LotFrontage'])\n",
    "train['LotFrontage'] = train['LotFrontage'].fillna(avg_LF)\n",
    "for x, y in zip(range(len(train.dtypes)),train.dtypes):\n",
    "    y = str(y)\n",
    "    if y == 'int64':\n",
    "        train.iloc[:,x] = train.iloc[:,x].fillna(np.mean(train.iloc[:,x]))\n",
    "    if y == 'float64':\n",
    "        train.iloc[:,x] = train.iloc[:,x].fillna(np.mean(train.iloc[:,x]))\n",
    "\n",
    "#Encode non-numerics\n",
    "encoder = LabelEncoder()\n",
    "for col in train.columns:\n",
    "    train[col] = encoder.fit_transform(train[col].values.reshape(-1,1))\n",
    "\n",
    "#Scale data  \n",
    "X = train.drop(['SalePrice', 'Id'], axis=1)\n",
    "y = train['SalePrice']\n",
    "scaler = StandardScaler() \n",
    "X = scaler.fit_transform(X)\n",
    "\n",
    "pca = PCA(n_components = 12)\n",
    "X = pca.fit_transform(X)"
   ]
  },
  {
   "cell_type": "code",
   "execution_count": 65,
   "id": "198bb8ab",
   "metadata": {},
   "outputs": [
    {
     "name": "stdout",
     "output_type": "stream",
     "text": [
      "0.7807669656390226\n"
     ]
    }
   ],
   "source": [
    "X_train, X_test, y_train, y_test = train_test_split(X, y, test_size = 0.25, random_state=20)\n",
    "model = LogisticRegression(max_iter=300)\n",
    "model.fit(X_train, y_train)\n",
    "prediction_test = model.predict(X_test)\n",
    "print(r2_score(y_test,prediction_test))"
   ]
  },
  {
   "cell_type": "code",
   "execution_count": null,
   "id": "cc83432c",
   "metadata": {},
   "outputs": [],
   "source": []
  }
 ],
 "metadata": {
  "kernelspec": {
   "display_name": "Python 3",
   "language": "python",
   "name": "python3"
  },
  "language_info": {
   "codemirror_mode": {
    "name": "ipython",
    "version": 3
   },
   "file_extension": ".py",
   "mimetype": "text/x-python",
   "name": "python",
   "nbconvert_exporter": "python",
   "pygments_lexer": "ipython3",
   "version": "3.8.8"
  }
 },
 "nbformat": 4,
 "nbformat_minor": 5
}
